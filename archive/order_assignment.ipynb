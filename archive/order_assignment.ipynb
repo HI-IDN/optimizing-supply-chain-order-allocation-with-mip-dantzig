{
 "cells": [
  {
   "cell_type": "code",
   "execution_count": 17,
   "metadata": {},
   "outputs": [],
   "source": [
    "from DO_project_input import *\n",
    "\n",
    "import gurobipy as gb\n",
    "from gurobipy import GRB"
   ]
  },
  {
   "cell_type": "code",
   "execution_count": 18,
   "metadata": {},
   "outputs": [],
   "source": [
    "number_of_orders = len(ID_per_order)\n",
    "number_of_plants = len(cost_per_unit)\n",
    "number_of_ports = len(costs_per_port)\n",
    "number_of_days = 2"
   ]
  },
  {
   "cell_type": "code",
   "execution_count": 19,
   "metadata": {},
   "outputs": [],
   "source": [
    "model = gb.Model('wharehouse_model')\n",
    "\n",
    "plant_alloc = model.addVars(number_of_orders, number_of_plants, number_of_days, vtype=GRB.BINARY,name=\"Plant Allocation\")        # number of plant j producing order i\n",
    "port_alloc = model.addVars(number_of_orders, number_of_ports, number_of_days, vtype=GRB.BINARY,name=\"Port Allocation\")"
   ]
  },
  {
   "cell_type": "code",
   "execution_count": 20,
   "metadata": {},
   "outputs": [],
   "source": [
    "# order on 1 plant\n",
    "for index_order in range(number_of_orders):\n",
    "    tot = 0\n",
    "    for index_day in range(number_of_days):\n",
    "        tot += gb.quicksum(plant_alloc[index_order, index_plant, index_day] for index_plant in range(number_of_plants))\n",
    "    model.addConstr(tot==1, name=f'order_{index_order}_to_ONE_plant')\n",
    "\n",
    "for index_order in range(number_of_orders):\n",
    "    tot = 0\n",
    "    for index_day in range(number_of_days):\n",
    "        tot += gb.quicksum(plant_alloc[index_order, index_port, index_day] for index_port in range(number_of_ports))\n",
    "    model.addConstr(tot==1, name=f'order_{index_order}_to_ONE_port')\n",
    "\n",
    "for index_plants in range(number_of_plants):\n",
    "    for index_day in range(number_of_days):\n",
    "        model.addConstr(gb.quicksum(plant_alloc[index_orders, index_plants, index_day] for index_orders in range(number_of_orders)) <= daily_order_capacity_per_plant[index_plants], name=f'plant_{index_plants}_order_limit')\n",
    "\n",
    "for index_order in range(number_of_orders):\n",
    "    for index_plant in range(number_of_plants):\n",
    "        for index_port in range(number_of_ports):\n",
    "            if index_port not in ports_per_plant[index_plant]:\n",
    "                tot = 0\n",
    "                for index_day in range(number_of_days):\n",
    "                    tot += plant_alloc[index_order, index_plant, index_day] + port_alloc[index_order, index_port, index_day]\n",
    "                model.addConstr(tot <= 1, name=f'order_{index_order}_plant_{index_plant}_not_conn_to_port_{index_port}')\n"
   ]
  }
 ],
 "metadata": {
  "kernelspec": {
   "display_name": "Python 3",
   "language": "python",
   "name": "python3"
  },
  "language_info": {
   "codemirror_mode": {
    "name": "ipython",
    "version": 3
   },
   "file_extension": ".py",
   "mimetype": "text/x-python",
   "name": "python",
   "nbconvert_exporter": "python",
   "pygments_lexer": "ipython3",
   "version": "3.11.2"
  }
 },
 "nbformat": 4,
 "nbformat_minor": 2
}
