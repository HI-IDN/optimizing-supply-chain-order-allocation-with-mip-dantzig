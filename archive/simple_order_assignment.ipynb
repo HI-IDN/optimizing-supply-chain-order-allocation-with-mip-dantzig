{
 "cells": [
  {
   "cell_type": "code",
   "execution_count": 1,
   "metadata": {},
   "outputs": [],
   "source": [
    "import gurobipy as gb\n",
    "from gurobipy import GRB"
   ]
  },
  {
   "cell_type": "markdown",
   "metadata": {},
   "source": [
    "Let's do a simple model with 6 orders 2 plants and 3 ports. \n",
    "\n",
    "We want to decide for each order where to produce and where to send from."
   ]
  },
  {
   "cell_type": "code",
   "execution_count": 2,
   "metadata": {},
   "outputs": [],
   "source": [
    "order_items = [1,2,1,1,3,3,3,2]\n",
    "item_production_costs_for_plants = [[10,12,8], [9,13,5]]\n",
    "shipment_costs_for_ports = [2, 3, 5]\n",
    "plant_order_limits = [6, 6]\n",
    "plant_port_connection = [[2], [0,1,2]]\n",
    "\n",
    "number_of_orders = len(order_items)\n",
    "number_of_plants = len(item_production_costs_for_plants)\n",
    "number_of_ports = len(shipment_costs_for_ports)\n"
   ]
  },
  {
   "cell_type": "code",
   "execution_count": 3,
   "metadata": {},
   "outputs": [
    {
     "name": "stdout",
     "output_type": "stream",
     "text": [
      "Set parameter Username\n",
      "Academic license - for non-commercial use only - expires 2025-10-21\n"
     ]
    }
   ],
   "source": [
    "order_allocation_model = gb.Model('order_allocation_model')\n",
    "\n",
    "plant_allocation = order_allocation_model.addVars(number_of_orders, number_of_plants, vtype=GRB.BINARY, name='plant_allocation')\n",
    "port_allocation = order_allocation_model.addVars(number_of_orders, number_of_ports, vtype=GRB.BINARY, name='port_allocation')"
   ]
  },
  {
   "cell_type": "code",
   "execution_count": 4,
   "metadata": {},
   "outputs": [],
   "source": [
    "order_allocation_model.setObjective(gb.quicksum(item_production_costs_for_plants[index_plant][order_items[index_order] - 1] * \n",
    "                                                plant_allocation[index_order, index_plant] \n",
    "                                                for index_order in range(number_of_orders) \n",
    "                                                for index_plant in range(number_of_plants)) \n",
    "                                    +\n",
    "                                    gb.quicksum(shipment_costs_for_ports[index_port] * port_allocation[index_order, index_port]\n",
    "                                                for index_order in range(number_of_orders)\n",
    "                                                for index_port in range(number_of_ports)),\n",
    "                                    GRB.MINIMIZE\n",
    "                                    )"
   ]
  },
  {
   "cell_type": "code",
   "execution_count": 5,
   "metadata": {},
   "outputs": [],
   "source": [
    "for index_order in range(number_of_orders):\n",
    "    order_allocation_model.addConstr(gb.quicksum(plant_allocation[index_order, index_plant] for index_plant in range(number_of_plants))==1, name=f'order_{index_order}_to_ONE_plant')\n",
    "\n",
    "for index_order in range(number_of_orders):\n",
    "    order_allocation_model.addConstr(gb.quicksum(port_allocation[index_order, index_port] for index_port in range(number_of_ports))==1, name=f'order_{index_order}_to_ONE_port')\n",
    "    \n",
    "for index_plants in range(number_of_plants):\n",
    "    order_allocation_model.addConstr(gb.quicksum(plant_allocation[index_orders, index_plants] for index_orders in range(number_of_orders)) <= plant_order_limits[index_plants], name=f'plant_{index_plants}_order_limit')\n",
    "    \n",
    "\n",
    "for index_order in range(number_of_orders):\n",
    "    for index_plant in range(number_of_plants):\n",
    "        for index_port in range(number_of_ports):\n",
    "            if index_port not in plant_port_connection[index_plant]:\n",
    "                order_allocation_model.addConstr(plant_allocation[index_order, index_plant] + port_allocation[index_order, index_port] <= 1, name=f'order_{index_order}_plant_{index_plant}_not_conn_to_port_{index_port}')\n",
    "\n",
    "for index_plant in range(number_of_plants):\n",
    "    order_allocation_model.addConstr(gb.quicksum(plant_allocation[index_order, index_plant] for index_order in range(number_of_orders)) <= plant_order_limits[index_plant], name=f'order_limit_plant_{index_plant}')"
   ]
  },
  {
   "cell_type": "code",
   "execution_count": 6,
   "metadata": {},
   "outputs": [
    {
     "name": "stdout",
     "output_type": "stream",
     "text": [
      "Gurobi Optimizer version 11.0.3 build v11.0.3rc0 (win64 - Windows 11+.0 (26100.2))\n",
      "\n",
      "CPU model: 12th Gen Intel(R) Core(TM) i7-1250U, instruction set [SSE2|AVX|AVX2]\n",
      "Thread count: 10 physical cores, 12 logical processors, using up to 12 threads\n",
      "\n",
      "Optimize a model with 36 rows, 40 columns and 104 nonzeros\n",
      "Model fingerprint: 0xe4fb82f8\n",
      "Variable types: 0 continuous, 40 integer (40 binary)\n",
      "Coefficient statistics:\n",
      "  Matrix range     [1e+00, 1e+00]\n",
      "  Objective range  [2e+00, 1e+01]\n",
      "  Bounds range     [1e+00, 1e+00]\n",
      "  RHS range        [1e+00, 6e+00]\n",
      "Found heuristic solution: objective 116.0000000\n",
      "Presolve removed 36 rows and 40 columns\n",
      "Presolve time: 0.00s\n",
      "Presolve: All rows and columns removed\n",
      "\n",
      "Explored 0 nodes (0 simplex iterations) in 0.01 seconds (0.00 work units)\n",
      "Thread count was 1 (of 12 available processors)\n",
      "\n",
      "Solution count 2: 88 116 \n",
      "\n",
      "Optimal solution found (tolerance 1.00e-04)\n",
      "Best objective 8.800000000000e+01, best bound 8.800000000000e+01, gap 0.0000%\n"
     ]
    }
   ],
   "source": [
    "order_allocation_model.optimize()"
   ]
  },
  {
   "cell_type": "code",
   "execution_count": 7,
   "metadata": {},
   "outputs": [
    {
     "name": "stdout",
     "output_type": "stream",
     "text": [
      "Order allocations (order, plant, port): [(0, 1, 0), (1, 0, 2), (2, 1, 0), (3, 1, 0), (4, 1, 0), (5, 1, 0), (6, 1, 0), (7, 0, 2)]\n"
     ]
    }
   ],
   "source": [
    "if order_allocation_model.status == GRB.OPTIMAL:\n",
    "    allocation = []  # List to store the allocation of orders\n",
    "\n",
    "    # Loop through each order\n",
    "    for i in range(number_of_orders):\n",
    "        # Check each plant for the current order\n",
    "        assigned_plant = None\n",
    "        for j in range(number_of_plants):\n",
    "            if plant_allocation[i, j].x > 0.5:  # If order i is assigned to plant j\n",
    "                assigned_plant = j\n",
    "                break\n",
    "        \n",
    "        # Check each port for the current order\n",
    "        assigned_port = None\n",
    "        for k in range(number_of_ports):\n",
    "            if port_allocation[i, k].x > 0.5:  # If order i is shipped through port k\n",
    "                assigned_port = k\n",
    "                break\n",
    "        \n",
    "        # Append the allocation as a tuple (order, plant, port)\n",
    "        if assigned_plant is not None and assigned_port is not None:\n",
    "            allocation.append((i, assigned_plant, assigned_port))\n",
    "\n",
    "    # Print the allocation results\n",
    "    print(\"Order allocations (order, plant, port):\", allocation)\n",
    "else:\n",
    "    print(\"No optimal solution found. Status code:\", order_allocation_model.status)"
   ]
  },
  {
   "cell_type": "code",
   "execution_count": 12,
   "metadata": {},
   "outputs": [
    {
     "data": {
      "image/png": "[encoded data removed]",
      "text/plain": [
       "<Figure size 640x480 with 1 Axes>"
      ]
     },
     "metadata": {},
     "output_type": "display_data"
    }
   ],
   "source": [
    "import matplotlib.pyplot as plt\n",
    "import networkx as nx\n",
    "\n",
    "# Sample allocation output, replace this with actual allocation from the optimization\n",
    "\n",
    "# Create a directed graph\n",
    "G = nx.DiGraph()\n",
    "\n",
    "# Add nodes for orders, plants, and ports with different colors\n",
    "order_nodes = [f\"Order {i}\" for i, _, _ in allocation]\n",
    "plant_nodes = [f\"Plant {j}\" for _, j, _ in allocation]\n",
    "port_nodes = [f\"Port {k}\" for _, _, k in allocation]\n",
    "\n",
    "# Use unique sets for plants and ports since they can be reused\n",
    "plants = list(set(plant_nodes))\n",
    "ports = list(set(port_nodes))\n",
    "\n",
    "G.add_nodes_from(order_nodes, color='skyblue', node_type='Order')\n",
    "G.add_nodes_from(plants, color='lightgreen', node_type='Plant')\n",
    "G.add_nodes_from(ports, color='salmon', node_type='Port')\n",
    "\n",
    "# Add edges based on the allocation, with labels for clarity\n",
    "edges = []\n",
    "for order, plant, port in allocation:\n",
    "    order_node = f\"Order {order}\"\n",
    "    plant_node = f\"Plant {plant}\"\n",
    "    port_node = f\"Port {port}\"\n",
    "    G.add_edge(order_node, plant_node, color='green')\n",
    "    # G.add_edge(plant_node, port_node, color='red')\n",
    "    G.add_edge(order_node, port_node, color='red')\n",
    "    \n",
    "for plant in range(number_of_plants):\n",
    "    for port in plant_port_connection[plant]:\n",
    "        plant_node = f'Plant {plant}'\n",
    "        port_node = f'Port {port}'\n",
    "        G.add_edge(plant_node, port_node, color='black')\n",
    "\n",
    "# Draw the graph\n",
    "colors = [G.nodes[node]['color'] for node in G.nodes]\n",
    "edge_colors = [G[u][v]['color'] for u, v in G.edges]\n",
    "pos = nx.spring_layout(G, k=2, iterations=50, seed=2)  # Layout for a clear presentation\n",
    "\n",
    "# Plot nodes with labels and custom colors\n",
    "nx.draw(G, pos, with_labels=True, node_color=colors, edge_color=edge_colors, node_size=1500, font_size=10, font_weight='bold')\n",
    "plt.title(\"Order Allocation to Plants and Ports\")\n",
    "plt.show()\n"
   ]
  },
  {
   "cell_type": "code",
   "execution_count": 9,
   "metadata": {},
   "outputs": [
    {
     "data": {
      "text/plain": [
       "{(0, 0): <gurobi.Var port_allocation[0,0] (value 1.0)>,\n",
       " (0, 1): <gurobi.Var port_allocation[0,1] (value 0.0)>,\n",
       " (0, 2): <gurobi.Var port_allocation[0,2] (value 0.0)>,\n",
       " (1, 0): <gurobi.Var port_allocation[1,0] (value 0.0)>,\n",
       " (1, 1): <gurobi.Var port_allocation[1,1] (value 0.0)>,\n",
       " (1, 2): <gurobi.Var port_allocation[1,2] (value 1.0)>,\n",
       " (2, 0): <gurobi.Var port_allocation[2,0] (value 1.0)>,\n",
       " (2, 1): <gurobi.Var port_allocation[2,1] (value 0.0)>,\n",
       " (2, 2): <gurobi.Var port_allocation[2,2] (value 0.0)>,\n",
       " (3, 0): <gurobi.Var port_allocation[3,0] (value 1.0)>,\n",
       " (3, 1): <gurobi.Var port_allocation[3,1] (value 0.0)>,\n",
       " (3, 2): <gurobi.Var port_allocation[3,2] (value 0.0)>,\n",
       " (4, 0): <gurobi.Var port_allocation[4,0] (value 1.0)>,\n",
       " (4, 1): <gurobi.Var port_allocation[4,1] (value 0.0)>,\n",
       " (4, 2): <gurobi.Var port_allocation[4,2] (value 0.0)>,\n",
       " (5, 0): <gurobi.Var port_allocation[5,0] (value 1.0)>,\n",
       " (5, 1): <gurobi.Var port_allocation[5,1] (value 0.0)>,\n",
       " (5, 2): <gurobi.Var port_allocation[5,2] (value 0.0)>,\n",
       " (6, 0): <gurobi.Var port_allocation[6,0] (value 1.0)>,\n",
       " (6, 1): <gurobi.Var port_allocation[6,1] (value 0.0)>,\n",
       " (6, 2): <gurobi.Var port_allocation[6,2] (value 0.0)>,\n",
       " (7, 0): <gurobi.Var port_allocation[7,0] (value 0.0)>,\n",
       " (7, 1): <gurobi.Var port_allocation[7,1] (value 0.0)>,\n",
       " (7, 2): <gurobi.Var port_allocation[7,2] (value 1.0)>}"
      ]
     },
     "execution_count": 9,
     "metadata": {},
     "output_type": "execute_result"
    }
   ],
   "source": [
    "port_allocation"
   ]
  },
  {
   "cell_type": "code",
   "execution_count": 10,
   "metadata": {},
   "outputs": [],
   "source": [
    "if order_allocation_model.status is not GRB.OPTIMAL: \n",
    "    order_allocation_model.computeIIS()\n",
    "    for constraint in order_allocation_model.getConstrs():\n",
    "        if constraint.IISConstr:\n",
    "            print(f'Constraint {constraint.ConstrName} is in the IIS')"
   ]
  },
  {
   "cell_type": "code",
   "execution_count": 13,
   "metadata": {},
   "outputs": [
    {
     "data": {
      "application/vnd.plotly.v1+json": {
       "config": {
        "plotlyServerURL": "https://plot.ly"
       },
       "data": [
        {
         "link": {
          "color": "rgba(100, 150, 250, 0.4)",
          "source": [
           0,
           0,
           1,
           1,
           2,
           2
          ],
          "target": [
           1,
           2,
           4,
           5,
           3,
           4
          ],
          "value": [
           4,
           2,
           1,
           3,
           1,
           1
          ]
         },
         "node": {
          "color": "blue",
          "label": [
           "All Orders",
           "Plant 0",
           "Plant 1",
           "Port 0",
           "Port 1",
           "Port 2"
          ],
          "line": {
           "color": "black",
           "width": 0.5
          },
          "pad": 15,
          "thickness": 20
         },
         "type": "sankey"
        }
       ],
       "layout": {
        "font": {
         "size": 12
        },
        "template": {
         "data": {
          "bar": [
           {
            "error_x": {
             "color": "#2a3f5f"
            },
            "error_y": {
             "color": "#2a3f5f"
            },
            "marker": {
             "line": {
              "color": "#E5ECF6",
              "width": 0.5
             },
             "pattern": {
              "fillmode": "overlay",
              "size": 10,
              "solidity": 0.2
             }
            },
            "type": "bar"
           }
          ],
          "barpolar": [
           {
            "marker": {
             "line": {
              "color": "#E5ECF6",
              "width": 0.5
             },
             "pattern": {
              "fillmode": "overlay",
              "size": 10,
              "solidity": 0.2
             }
            },
            "type": "barpolar"
           }
          ],
          "carpet": [
           {
            "aaxis": {
             "endlinecolor": "#2a3f5f",
             "gridcolor": "white",
             "linecolor": "white",
             "minorgridcolor": "white",
             "startlinecolor": "#2a3f5f"
            },
            "baxis": {
             "endlinecolor": "#2a3f5f",
             "gridcolor": "white",
             "linecolor": "white",
             "minorgridcolor": "white",
             "startlinecolor": "#2a3f5f"
            },
            "type": "carpet"
           }
          ],
          "choropleth": [
           {
            "colorbar": {
             "outlinewidth": 0,
             "ticks": ""
            },
            "type": "choropleth"
           }
          ],
          "contour": [
           {
            "colorbar": {
             "outlinewidth": 0,
             "ticks": ""
            },
            "colorscale": [
             [
              0,
              "#0d0887"
             ],
             [
              0.1111111111111111,
              "#46039f"
             ],
             [
              0.2222222222222222,
              "#7201a8"
             ],
             [
              0.3333333333333333,
              "#9c179e"
             ],
             [
              0.4444444444444444,
              "#bd3786"
             ],
             [
              0.5555555555555556,
              "#d8576b"
             ],
             [
              0.6666666666666666,
              "#ed7953"
             ],
             [
              0.7777777777777778,
              "#fb9f3a"
             ],
             [
              0.8888888888888888,
              "#fdca26"
             ],
             [
              1,
              "#f0f921"
             ]
            ],
            "type": "contour"
           }
          ],
          "contourcarpet": [
           {
            "colorbar": {
             "outlinewidth": 0,
             "ticks": ""
            },
            "type": "contourcarpet"
           }
          ],
          "heatmap": [
           {
            "colorbar": {
             "outlinewidth": 0,
             "ticks": ""
            },
            "colorscale": [
             [
              0,
              "#0d0887"
             ],
             [
              0.1111111111111111,
              "#46039f"
             ],
             [
              0.2222222222222222,
              "#7201a8"
             ],
             [
              0.3333333333333333,
              "#9c179e"
             ],
             [
              0.4444444444444444,
              "#bd3786"
             ],
             [
              0.5555555555555556,
              "#d8576b"
             ],
             [
              0.6666666666666666,
              "#ed7953"
             ],
             [
              0.7777777777777778,
              "#fb9f3a"
             ],
             [
              0.8888888888888888,
              "#fdca26"
             ],
             [
              1,
              "#f0f921"
             ]
            ],
            "type": "heatmap"
           }
          ],
          "heatmapgl": [
           {
            "colorbar": {
             "outlinewidth": 0,
             "ticks": ""
            },
            "colorscale": [
             [
              0,
              "#0d0887"
             ],
             [
              0.1111111111111111,
              "#46039f"
             ],
             [
              0.2222222222222222,
              "#7201a8"
             ],
             [
              0.3333333333333333,
              "#9c179e"
             ],
             [
              0.4444444444444444,
              "#bd3786"
             ],
             [
              0.5555555555555556,
              "#d8576b"
             ],
             [
              0.6666666666666666,
              "#ed7953"
             ],
             [
              0.7777777777777778,
              "#fb9f3a"
             ],
             [
              0.8888888888888888,
              "#fdca26"
             ],
             [
              1,
              "#f0f921"
             ]
            ],
            "type": "heatmapgl"
           }
          ],
          "histogram": [
           {
            "marker": {
             "pattern": {
              "fillmode": "overlay",
              "size": 10,
              "solidity": 0.2
             }
            },
            "type": "histogram"
           }
          ],
          "histogram2d": [
           {
            "colorbar": {
             "outlinewidth": 0,
             "ticks": ""
            },
            "colorscale": [
             [
              0,
              "#0d0887"
             ],
             [
              0.1111111111111111,
              "#46039f"
             ],
             [
              0.2222222222222222,
              "#7201a8"
             ],
             [
              0.3333333333333333,
              "#9c179e"
             ],
             [
              0.4444444444444444,
              "#bd3786"
             ],
             [
              0.5555555555555556,
              "#d8576b"
             ],
             [
              0.6666666666666666,
              "#ed7953"
             ],
             [
              0.7777777777777778,
              "#fb9f3a"
             ],
             [
              0.8888888888888888,
              "#fdca26"
             ],
             [
              1,
              "#f0f921"
             ]
            ],
            "type": "histogram2d"
           }
          ],
          "histogram2dcontour": [
           {
            "colorbar": {
             "outlinewidth": 0,
             "ticks": ""
            },
            "colorscale": [
             [
              0,
              "#0d0887"
             ],
             [
              0.1111111111111111,
              "#46039f"
             ],
             [
              0.2222222222222222,
              "#7201a8"
             ],
             [
              0.3333333333333333,
              "#9c179e"
             ],
             [
              0.4444444444444444,
              "#bd3786"
             ],
             [
              0.5555555555555556,
              "#d8576b"
             ],
             [
              0.6666666666666666,
              "#ed7953"
             ],
             [
              0.7777777777777778,
              "#fb9f3a"
             ],
             [
              0.8888888888888888,
              "#fdca26"
             ],
             [
              1,
              "#f0f921"
             ]
            ],
            "type": "histogram2dcontour"
           }
          ],
          "mesh3d": [
           {
            "colorbar": {
             "outlinewidth": 0,
             "ticks": ""
            },
            "type": "mesh3d"
           }
          ],
          "parcoords": [
           {
            "line": {
             "colorbar": {
              "outlinewidth": 0,
              "ticks": ""
             }
            },
            "type": "parcoords"
           }
          ],
          "pie": [
           {
            "automargin": true,
            "type": "pie"
           }
          ],
          "scatter": [
           {
            "fillpattern": {
             "fillmode": "overlay",
             "size": 10,
             "solidity": 0.2
            },
            "type": "scatter"
           }
          ],
          "scatter3d": [
           {
            "line": {
             "colorbar": {
              "outlinewidth": 0,
              "ticks": ""
             }
            },
            "marker": {
             "colorbar": {
              "outlinewidth": 0,
              "ticks": ""
             }
            },
            "type": "scatter3d"
           }
          ],
          "scattercarpet": [
           {
            "marker": {
             "colorbar": {
              "outlinewidth": 0,
              "ticks": ""
             }
            },
            "type": "scattercarpet"
           }
          ],
          "scattergeo": [
           {
            "marker": {
             "colorbar": {
              "outlinewidth": 0,
              "ticks": ""
             }
            },
            "type": "scattergeo"
           }
          ],
          "scattergl": [
           {
            "marker": {
             "colorbar": {
              "outlinewidth": 0,
              "ticks": ""
             }
            },
            "type": "scattergl"
           }
          ],
          "scattermapbox": [
           {
            "marker": {
             "colorbar": {
              "outlinewidth": 0,
              "ticks": ""
             }
            },
            "type": "scattermapbox"
           }
          ],
          "scatterpolar": [
           {
            "marker": {
             "colorbar": {
              "outlinewidth": 0,
              "ticks": ""
             }
            },
            "type": "scatterpolar"
           }
          ],
          "scatterpolargl": [
           {
            "marker": {
             "colorbar": {
              "outlinewidth": 0,
              "ticks": ""
             }
            },
            "type": "scatterpolargl"
           }
          ],
          "scatterternary": [
           {
            "marker": {
             "colorbar": {
              "outlinewidth": 0,
              "ticks": ""
             }
            },
            "type": "scatterternary"
           }
          ],
          "surface": [
           {
            "colorbar": {
             "outlinewidth": 0,
             "ticks": ""
            },
            "colorscale": [
             [
              0,
              "#0d0887"
             ],
             [
              0.1111111111111111,
              "#46039f"
             ],
             [
              0.2222222222222222,
              "#7201a8"
             ],
             [
              0.3333333333333333,
              "#9c179e"
             ],
             [
              0.4444444444444444,
              "#bd3786"
             ],
             [
              0.5555555555555556,
              "#d8576b"
             ],
             [
              0.6666666666666666,
              "#ed7953"
             ],
             [
              0.7777777777777778,
              "#fb9f3a"
             ],
             [
              0.8888888888888888,
              "#fdca26"
             ],
             [
              1,
              "#f0f921"
             ]
            ],
            "type": "surface"
           }
          ],
          "table": [
           {
            "cells": {
             "fill": {
              "color": "#EBF0F8"
             },
             "line": {
              "color": "white"
             }
            },
            "header": {
             "fill": {
              "color": "#C8D4E3"
             },
             "line": {
              "color": "white"
             }
            },
            "type": "table"
           }
          ]
         },
         "layout": {
          "annotationdefaults": {
           "arrowcolor": "#2a3f5f",
           "arrowhead": 0,
           "arrowwidth": 1
          },
          "autotypenumbers": "strict",
          "coloraxis": {
           "colorbar": {
            "outlinewidth": 0,
            "ticks": ""
           }
          },
          "colorscale": {
           "diverging": [
            [
             0,
             "#8e0152"
            ],
            [
             0.1,
             "#c51b7d"
            ],
            [
             0.2,
             "#de77ae"
            ],
            [
             0.3,
             "#f1b6da"
            ],
            [
             0.4,
             "#fde0ef"
            ],
            [
             0.5,
             "#f7f7f7"
            ],
            [
             0.6,
             "#e6f5d0"
            ],
            [
             0.7,
             "#b8e186"
            ],
            [
             0.8,
             "#7fbc41"
            ],
            [
             0.9,
             "#4d9221"
            ],
            [
             1,
             "#276419"
            ]
           ],
           "sequential": [
            [
             0,
             "#0d0887"
            ],
            [
             0.1111111111111111,
             "#46039f"
            ],
            [
             0.2222222222222222,
             "#7201a8"
            ],
            [
             0.3333333333333333,
             "#9c179e"
            ],
            [
             0.4444444444444444,
             "#bd3786"
            ],
            [
             0.5555555555555556,
             "#d8576b"
            ],
            [
             0.6666666666666666,
             "#ed7953"
            ],
            [
             0.7777777777777778,
             "#fb9f3a"
            ],
            [
             0.8888888888888888,
             "#fdca26"
            ],
            [
             1,
             "#f0f921"
            ]
           ],
           "sequentialminus": [
            [
             0,
             "#0d0887"
            ],
            [
             0.1111111111111111,
             "#46039f"
            ],
            [
             0.2222222222222222,
             "#7201a8"
            ],
            [
             0.3333333333333333,
             "#9c179e"
            ],
            [
             0.4444444444444444,
             "#bd3786"
            ],
            [
             0.5555555555555556,
             "#d8576b"
            ],
            [
             0.6666666666666666,
             "#ed7953"
            ],
            [
             0.7777777777777778,
             "#fb9f3a"
            ],
            [
             0.8888888888888888,
             "#fdca26"
            ],
            [
             1,
             "#f0f921"
            ]
           ]
          },
          "colorway": [
           "#636efa",
           "#EF553B",
           "#00cc96",
           "#ab63fa",
           "#FFA15A",
           "#19d3f3",
           "#FF6692",
           "#B6E880",
           "#FF97FF",
           "#FECB52"
          ],
          "font": {
           "color": "#2a3f5f"
          },
          "geo": {
           "bgcolor": "white",
           "lakecolor": "white",
           "landcolor": "#E5ECF6",
           "showlakes": true,
           "showland": true,
           "subunitcolor": "white"
          },
          "hoverlabel": {
           "align": "left"
          },
          "hovermode": "closest",
          "mapbox": {
           "style": "light"
          },
          "paper_bgcolor": "white",
          "plot_bgcolor": "#E5ECF6",
          "polar": {
           "angularaxis": {
            "gridcolor": "white",
            "linecolor": "white",
            "ticks": ""
           },
           "bgcolor": "#E5ECF6",
           "radialaxis": {
            "gridcolor": "white",
            "linecolor": "white",
            "ticks": ""
           }
          },
          "scene": {
           "xaxis": {
            "backgroundcolor": "#E5ECF6",
            "gridcolor": "white",
            "gridwidth": 2,
            "linecolor": "white",
            "showbackground": true,
            "ticks": "",
            "zerolinecolor": "white"
           },
           "yaxis": {
            "backgroundcolor": "#E5ECF6",
            "gridcolor": "white",
            "gridwidth": 2,
            "linecolor": "white",
            "showbackground": true,
            "ticks": "",
            "zerolinecolor": "white"
           },
           "zaxis": {
            "backgroundcolor": "#E5ECF6",
            "gridcolor": "white",
            "gridwidth": 2,
            "linecolor": "white",
            "showbackground": true,
            "ticks": "",
            "zerolinecolor": "white"
           }
          },
          "shapedefaults": {
           "line": {
            "color": "#2a3f5f"
           }
          },
          "ternary": {
           "aaxis": {
            "gridcolor": "white",
            "linecolor": "white",
            "ticks": ""
           },
           "baxis": {
            "gridcolor": "white",
            "linecolor": "white",
            "ticks": ""
           },
           "bgcolor": "#E5ECF6",
           "caxis": {
            "gridcolor": "white",
            "linecolor": "white",
            "ticks": ""
           }
          },
          "title": {
           "x": 0.05
          },
          "xaxis": {
           "automargin": true,
           "gridcolor": "white",
           "linecolor": "white",
           "ticks": "",
           "title": {
            "standoff": 15
           },
           "zerolinecolor": "white",
           "zerolinewidth": 2
          },
          "yaxis": {
           "automargin": true,
           "gridcolor": "white",
           "linecolor": "white",
           "ticks": "",
           "title": {
            "standoff": 15
           },
           "zerolinecolor": "white",
           "zerolinewidth": 2
          }
         }
        },
        "title": {
         "text": "Order Allocation Flow from Orders to Plants to Ports"
        }
       }
      }
     },
     "metadata": {},
     "output_type": "display_data"
    }
   ],
   "source": [
    "import plotly.graph_objects as go\n",
    "from collections import Counter\n",
    "\n",
    "# Sample data: replace with actual allocation results from the optimization\n",
    "# Each entry is (order_id, plant_id, port_id)\n",
    "\n",
    "# Define nodes\n",
    "order_node = \"All Orders\"\n",
    "plants = sorted(set(plant_id for _, plant_id, _ in allocation))\n",
    "ports = sorted(set(port_id for _, _, port_id in allocation))\n",
    "\n",
    "# Create a list of all node labels\n",
    "node_labels = [order_node] + [f\"Plant {j}\" for j in plants] + [f\"Port {k}\" for k in ports]\n",
    "\n",
    "# Calculate order counts for edges between levels\n",
    "# First level (All Orders -> Plants)\n",
    "orders_to_plants = Counter(plant_id for _, plant_id, _ in allocation)\n",
    "\n",
    "# Second level (Plants -> Ports)\n",
    "plants_to_ports = Counter((plant_id, port_id) for _, plant_id, port_id in allocation)\n",
    "\n",
    "# Map node labels to indices for Sankey\n",
    "node_indices = {label: i for i, label in enumerate(node_labels)}\n",
    "\n",
    "# Define the Sankey diagram sources, targets, and values based on the calculations above\n",
    "sources = []\n",
    "targets = []\n",
    "values = []\n",
    "\n",
    "# Add edges from \"All Orders\" to each plant\n",
    "for plant, count in orders_to_plants.items():\n",
    "    sources.append(node_indices[order_node])\n",
    "    targets.append(node_indices[f\"Plant {plant}\"])\n",
    "    values.append(count)\n",
    "\n",
    "# Add edges from each plant to each port\n",
    "for (plant, port), count in plants_to_ports.items():\n",
    "    sources.append(node_indices[f\"Plant {plant}\"])\n",
    "    targets.append(node_indices[f\"Port {port}\"])\n",
    "    values.append(count)\n",
    "\n",
    "# Create the Sankey diagram using Plotly\n",
    "fig = go.Figure(go.Sankey(\n",
    "    node=dict(\n",
    "        pad=15,\n",
    "        thickness=20,\n",
    "        line=dict(color=\"black\", width=0.5),\n",
    "        label=node_labels,\n",
    "        color=\"blue\"\n",
    "    ),\n",
    "    link=dict(\n",
    "        source=sources,    # indices of source nodes\n",
    "        target=targets,    # indices of target nodes\n",
    "        value=values,      # the flow values for each link\n",
    "        color=\"rgba(100, 150, 250, 0.4)\"\n",
    "    )\n",
    "))\n",
    "\n",
    "# Set the layout and display the figure\n",
    "fig.update_layout(title_text=\"Order Allocation Flow from Orders to Plants to Ports\", font_size=12)\n",
    "fig.show()\n"
   ]
  }
 ],
 "metadata": {
  "kernelspec": {
   "display_name": "design-optimization",
   "language": "python",
   "name": "python3"
  },
  "language_info": {
   "codemirror_mode": {
    "name": "ipython",
    "version": 3
   },
   "file_extension": ".py",
   "mimetype": "text/x-python",
   "name": "python",
   "nbconvert_exporter": "python",
   "pygments_lexer": "ipython3",
   "version": "3.10.15"
  }
 },
 "nbformat": 4,
 "nbformat_minor": 2
}
